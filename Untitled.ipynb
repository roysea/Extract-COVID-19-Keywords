{
 "cells": [
  {
   "cell_type": "code",
   "execution_count": 2,
   "id": "8fe58cdf",
   "metadata": {
    "scrolled": true
   },
   "outputs": [
    {
     "name": "stdout",
     "output_type": "stream",
     "text": [
      "Collecting spacy\n",
      "  Downloading spacy-3.2.3-cp36-cp36m-win_amd64.whl (12.1 MB)\n",
      "Collecting pydantic!=1.8,!=1.8.1,<1.9.0,>=1.7.4\n",
      "  Downloading pydantic-1.8.2-cp36-cp36m-win_amd64.whl (1.9 MB)\n",
      "Requirement already satisfied: packaging>=20.0 in c:\\users\\jooni\\appdata\\local\\programs\\python\\python36\\lib\\site-packages (from spacy) (21.2)\n",
      "Collecting spacy-loggers<2.0.0,>=1.0.0\n",
      "  Downloading spacy_loggers-1.0.1-py3-none-any.whl (7.0 kB)\n",
      "Collecting murmurhash<1.1.0,>=0.28.0\n",
      "  Downloading murmurhash-1.0.6-cp36-cp36m-win_amd64.whl (20 kB)\n",
      "Requirement already satisfied: typing-extensions<4.0.0.0,>=3.7.4 in c:\\users\\jooni\\appdata\\local\\programs\\python\\python36\\lib\\site-packages (from spacy) (3.7.4.3)\n",
      "Collecting cymem<2.1.0,>=2.0.2\n",
      "  Downloading cymem-2.0.6-cp36-cp36m-win_amd64.whl (35 kB)\n",
      "Collecting catalogue<2.1.0,>=2.0.6\n",
      "  Downloading catalogue-2.0.7-py3-none-any.whl (17 kB)\n",
      "Collecting blis<0.8.0,>=0.4.0\n",
      "  Downloading blis-0.7.7-cp36-cp36m-win_amd64.whl (6.6 MB)\n",
      "Collecting thinc<8.1.0,>=8.0.12\n",
      "  Downloading thinc-8.0.15-cp36-cp36m-win_amd64.whl (1.1 MB)\n",
      "Collecting wasabi<1.1.0,>=0.8.1\n",
      "  Downloading wasabi-0.9.0-py3-none-any.whl (25 kB)\n",
      "Collecting srsly<3.0.0,>=2.4.1\n",
      "  Downloading srsly-2.4.2-cp36-cp36m-win_amd64.whl (450 kB)\n",
      "Requirement already satisfied: numpy>=1.15.0 in c:\\users\\jooni\\appdata\\local\\programs\\python\\python36\\lib\\site-packages (from spacy) (1.19.5)\n",
      "Collecting pathy>=0.3.5\n",
      "  Downloading pathy-0.6.1-py3-none-any.whl (42 kB)\n",
      "Collecting typer<0.5.0,>=0.3.0\n",
      "  Downloading typer-0.4.0-py3-none-any.whl (27 kB)\n",
      "Requirement already satisfied: requests<3.0.0,>=2.13.0 in c:\\users\\jooni\\appdata\\local\\programs\\python\\python36\\lib\\site-packages (from spacy) (2.26.0)\n",
      "Collecting tqdm<5.0.0,>=4.38.0\n",
      "  Downloading tqdm-4.63.1-py2.py3-none-any.whl (76 kB)\n",
      "Requirement already satisfied: setuptools in c:\\users\\jooni\\appdata\\local\\programs\\python\\python36\\lib\\site-packages (from spacy) (58.5.3)\n",
      "Collecting preshed<3.1.0,>=3.0.2\n",
      "  Downloading preshed-3.0.6-cp36-cp36m-win_amd64.whl (109 kB)\n",
      "Requirement already satisfied: jinja2 in c:\\users\\jooni\\appdata\\local\\programs\\python\\python36\\lib\\site-packages (from spacy) (3.0.3)\n",
      "Collecting spacy-legacy<3.1.0,>=3.0.8\n",
      "  Downloading spacy_legacy-3.0.9-py2.py3-none-any.whl (20 kB)\n",
      "Collecting langcodes<4.0.0,>=3.2.0\n",
      "  Downloading langcodes-3.3.0-py3-none-any.whl (181 kB)\n",
      "Requirement already satisfied: zipp>=0.5 in c:\\users\\jooni\\appdata\\local\\programs\\python\\python36\\lib\\site-packages (from catalogue<2.1.0,>=2.0.6->spacy) (3.6.0)\n",
      "Requirement already satisfied: pyparsing<3,>=2.0.2 in c:\\users\\jooni\\appdata\\local\\programs\\python\\python36\\lib\\site-packages (from packaging>=20.0->spacy) (2.4.7)\n",
      "Requirement already satisfied: dataclasses<1.0,>=0.6 in c:\\users\\jooni\\appdata\\local\\programs\\python\\python36\\lib\\site-packages (from pathy>=0.3.5->spacy) (0.8)\n",
      "Collecting smart-open<6.0.0,>=5.0.0\n",
      "  Downloading smart_open-5.2.1-py3-none-any.whl (58 kB)\n",
      "Requirement already satisfied: certifi>=2017.4.17 in c:\\users\\jooni\\appdata\\local\\programs\\python\\python36\\lib\\site-packages (from requests<3.0.0,>=2.13.0->spacy) (2021.10.8)\n",
      "Requirement already satisfied: charset-normalizer~=2.0.0 in c:\\users\\jooni\\appdata\\local\\programs\\python\\python36\\lib\\site-packages (from requests<3.0.0,>=2.13.0->spacy) (2.0.7)\n",
      "Requirement already satisfied: urllib3<1.27,>=1.21.1 in c:\\users\\jooni\\appdata\\local\\programs\\python\\python36\\lib\\site-packages (from requests<3.0.0,>=2.13.0->spacy) (1.26.7)\n",
      "Requirement already satisfied: idna<4,>=2.5 in c:\\users\\jooni\\appdata\\local\\programs\\python\\python36\\lib\\site-packages (from requests<3.0.0,>=2.13.0->spacy) (3.3)\n",
      "Collecting contextvars<3,>=2.4\n",
      "  Downloading contextvars-2.4.tar.gz (9.6 kB)\n",
      "  Preparing metadata (setup.py): started\n",
      "  Preparing metadata (setup.py): finished with status 'done'\n",
      "Requirement already satisfied: colorama in c:\\users\\jooni\\appdata\\local\\programs\\python\\python36\\lib\\site-packages (from tqdm<5.0.0,>=4.38.0->spacy) (0.4.4)\n",
      "Collecting importlib-resources\n",
      "  Downloading importlib_resources-5.4.0-py3-none-any.whl (28 kB)\n",
      "Collecting click<9.0.0,>=7.1.1\n",
      "  Downloading click-8.0.4-py3-none-any.whl (97 kB)\n",
      "Requirement already satisfied: MarkupSafe>=2.0 in c:\\users\\jooni\\appdata\\local\\programs\\python\\python36\\lib\\site-packages (from jinja2->spacy) (2.0.1)\n",
      "Requirement already satisfied: importlib-metadata in c:\\users\\jooni\\appdata\\local\\programs\\python\\python36\\lib\\site-packages (from click<9.0.0,>=7.1.1->typer<0.5.0,>=0.3.0->spacy) (4.8.2)\n",
      "Collecting immutables>=0.9\n",
      "  Downloading immutables-0.16-cp36-cp36m-win_amd64.whl (59 kB)\n",
      "Building wheels for collected packages: contextvars\n",
      "  Building wheel for contextvars (setup.py): started\n",
      "  Building wheel for contextvars (setup.py): finished with status 'done'\n",
      "  Created wheel for contextvars: filename=contextvars-2.4-py3-none-any.whl size=7680 sha256=1ed8db2bba03b91ebb0cb17c3c9f3dda269503e60b8787b3cf43c1f68283caf9\n",
      "  Stored in directory: c:\\users\\jooni\\appdata\\local\\pip\\cache\\wheels\\41\\11\\53\\911724983aa48deb94792432e14e518447212dd6c5477d49d3\n",
      "Successfully built contextvars\n",
      "Installing collected packages: murmurhash, immutables, cymem, click, catalogue, wasabi, typer, srsly, smart-open, pydantic, preshed, importlib-resources, contextvars, blis, tqdm, thinc, spacy-loggers, spacy-legacy, pathy, langcodes, spacy\n",
      "Successfully installed blis-0.7.7 catalogue-2.0.7 click-8.0.4 contextvars-2.4 cymem-2.0.6 immutables-0.16 importlib-resources-5.4.0 langcodes-3.3.0 murmurhash-1.0.6 pathy-0.6.1 preshed-3.0.6 pydantic-1.8.2 smart-open-5.2.1 spacy-3.2.3 spacy-legacy-3.0.9 spacy-loggers-1.0.1 srsly-2.4.2 thinc-8.0.15 tqdm-4.63.1 typer-0.4.0 wasabi-0.9.0\n"
     ]
    }
   ],
   "source": [
    "# install spacy\n",
    "!pip install spacy"
   ]
  },
  {
   "cell_type": "code",
   "execution_count": 3,
   "id": "bbb6a189",
   "metadata": {
    "scrolled": false
   },
   "outputs": [
    {
     "name": "stdout",
     "output_type": "stream",
     "text": [
      "Collecting newsapi-python\n",
      "  Downloading newsapi_python-0.2.6-py2.py3-none-any.whl (7.9 kB)\n",
      "Requirement already satisfied: requests<3.0.0 in c:\\users\\jooni\\appdata\\local\\programs\\python\\python36\\lib\\site-packages (from newsapi-python) (2.26.0)\n",
      "Requirement already satisfied: urllib3<1.27,>=1.21.1 in c:\\users\\jooni\\appdata\\local\\programs\\python\\python36\\lib\\site-packages (from requests<3.0.0->newsapi-python) (1.26.7)\n",
      "Requirement already satisfied: certifi>=2017.4.17 in c:\\users\\jooni\\appdata\\local\\programs\\python\\python36\\lib\\site-packages (from requests<3.0.0->newsapi-python) (2021.10.8)\n",
      "Requirement already satisfied: idna<4,>=2.5 in c:\\users\\jooni\\appdata\\local\\programs\\python\\python36\\lib\\site-packages (from requests<3.0.0->newsapi-python) (3.3)\n",
      "Requirement already satisfied: charset-normalizer~=2.0.0 in c:\\users\\jooni\\appdata\\local\\programs\\python\\python36\\lib\\site-packages (from requests<3.0.0->newsapi-python) (2.0.7)\n",
      "Installing collected packages: newsapi-python\n",
      "Successfully installed newsapi-python-0.2.6\n"
     ]
    }
   ],
   "source": [
    "!pip install newsapi-python"
   ]
  },
  {
   "cell_type": "code",
   "execution_count": 6,
   "id": "7f2612df",
   "metadata": {
    "scrolled": true
   },
   "outputs": [
    {
     "name": "stdout",
     "output_type": "stream",
     "text": [
      "Collecting en-core-web-lg==3.2.0\n",
      "  Using cached https://github.com/explosion/spacy-models/releases/download/en_core_web_lg-3.2.0/en_core_web_lg-3.2.0-py3-none-any.whl (777.4 MB)\n",
      "Requirement already satisfied: spacy<3.3.0,>=3.2.0 in c:\\users\\jooni\\appdata\\local\\programs\\python\\python36\\lib\\site-packages (from en-core-web-lg==3.2.0) (3.2.3)\n",
      "Requirement already satisfied: langcodes<4.0.0,>=3.2.0 in c:\\users\\jooni\\appdata\\local\\programs\\python\\python36\\lib\\site-packages (from spacy<3.3.0,>=3.2.0->en-core-web-lg==3.2.0) (3.3.0)\n",
      "Requirement already satisfied: spacy-loggers<2.0.0,>=1.0.0 in c:\\users\\jooni\\appdata\\local\\programs\\python\\python36\\lib\\site-packages (from spacy<3.3.0,>=3.2.0->en-core-web-lg==3.2.0) (1.0.1)\n",
      "Requirement already satisfied: typing-extensions<4.0.0.0,>=3.7.4 in c:\\users\\jooni\\appdata\\local\\programs\\python\\python36\\lib\\site-packages (from spacy<3.3.0,>=3.2.0->en-core-web-lg==3.2.0) (3.7.4.3)\n",
      "Requirement already satisfied: catalogue<2.1.0,>=2.0.6 in c:\\users\\jooni\\appdata\\local\\programs\\python\\python36\\lib\\site-packages (from spacy<3.3.0,>=3.2.0->en-core-web-lg==3.2.0) (2.0.7)\n",
      "Requirement already satisfied: pathy>=0.3.5 in c:\\users\\jooni\\appdata\\local\\programs\\python\\python36\\lib\\site-packages (from spacy<3.3.0,>=3.2.0->en-core-web-lg==3.2.0) (0.6.1)\n",
      "Requirement already satisfied: requests<3.0.0,>=2.13.0 in c:\\users\\jooni\\appdata\\local\\programs\\python\\python36\\lib\\site-packages (from spacy<3.3.0,>=3.2.0->en-core-web-lg==3.2.0) (2.26.0)\n",
      "Requirement already satisfied: packaging>=20.0 in c:\\users\\jooni\\appdata\\local\\programs\\python\\python36\\lib\\site-packages (from spacy<3.3.0,>=3.2.0->en-core-web-lg==3.2.0) (21.2)\n",
      "Requirement already satisfied: thinc<8.1.0,>=8.0.12 in c:\\users\\jooni\\appdata\\local\\programs\\python\\python36\\lib\\site-packages (from spacy<3.3.0,>=3.2.0->en-core-web-lg==3.2.0) (8.0.15)\n",
      "Requirement already satisfied: tqdm<5.0.0,>=4.38.0 in c:\\users\\jooni\\appdata\\local\\programs\\python\\python36\\lib\\site-packages (from spacy<3.3.0,>=3.2.0->en-core-web-lg==3.2.0) (4.63.1)\n",
      "Requirement already satisfied: preshed<3.1.0,>=3.0.2 in c:\\users\\jooni\\appdata\\local\\programs\\python\\python36\\lib\\site-packages (from spacy<3.3.0,>=3.2.0->en-core-web-lg==3.2.0) (3.0.6)\n",
      "Requirement already satisfied: wasabi<1.1.0,>=0.8.1 in c:\\users\\jooni\\appdata\\local\\programs\\python\\python36\\lib\\site-packages (from spacy<3.3.0,>=3.2.0->en-core-web-lg==3.2.0) (0.9.0)\n",
      "Requirement already satisfied: srsly<3.0.0,>=2.4.1 in c:\\users\\jooni\\appdata\\local\\programs\\python\\python36\\lib\\site-packages (from spacy<3.3.0,>=3.2.0->en-core-web-lg==3.2.0) (2.4.2)\n",
      "Requirement already satisfied: spacy-legacy<3.1.0,>=3.0.8 in c:\\users\\jooni\\appdata\\local\\programs\\python\\python36\\lib\\site-packages (from spacy<3.3.0,>=3.2.0->en-core-web-lg==3.2.0) (3.0.9)\n",
      "Requirement already satisfied: murmurhash<1.1.0,>=0.28.0 in c:\\users\\jooni\\appdata\\local\\programs\\python\\python36\\lib\\site-packages (from spacy<3.3.0,>=3.2.0->en-core-web-lg==3.2.0) (1.0.6)\n",
      "Requirement already satisfied: setuptools in c:\\users\\jooni\\appdata\\local\\programs\\python\\python36\\lib\\site-packages (from spacy<3.3.0,>=3.2.0->en-core-web-lg==3.2.0) (58.5.3)\n",
      "Requirement already satisfied: typer<0.5.0,>=0.3.0 in c:\\users\\jooni\\appdata\\local\\programs\\python\\python36\\lib\\site-packages (from spacy<3.3.0,>=3.2.0->en-core-web-lg==3.2.0) (0.4.0)\n",
      "Requirement already satisfied: blis<0.8.0,>=0.4.0 in c:\\users\\jooni\\appdata\\local\\programs\\python\\python36\\lib\\site-packages (from spacy<3.3.0,>=3.2.0->en-core-web-lg==3.2.0) (0.7.7)\n",
      "Requirement already satisfied: jinja2 in c:\\users\\jooni\\appdata\\local\\programs\\python\\python36\\lib\\site-packages (from spacy<3.3.0,>=3.2.0->en-core-web-lg==3.2.0) (3.0.3)\n",
      "Requirement already satisfied: pydantic!=1.8,!=1.8.1,<1.9.0,>=1.7.4 in c:\\users\\jooni\\appdata\\local\\programs\\python\\python36\\lib\\site-packages (from spacy<3.3.0,>=3.2.0->en-core-web-lg==3.2.0) (1.8.2)\n",
      "Requirement already satisfied: numpy>=1.15.0 in c:\\users\\jooni\\appdata\\local\\programs\\python\\python36\\lib\\site-packages (from spacy<3.3.0,>=3.2.0->en-core-web-lg==3.2.0) (1.19.5)\n",
      "Requirement already satisfied: cymem<2.1.0,>=2.0.2 in c:\\users\\jooni\\appdata\\local\\programs\\python\\python36\\lib\\site-packages (from spacy<3.3.0,>=3.2.0->en-core-web-lg==3.2.0) (2.0.6)\n",
      "Requirement already satisfied: zipp>=0.5 in c:\\users\\jooni\\appdata\\local\\programs\\python\\python36\\lib\\site-packages (from catalogue<2.1.0,>=2.0.6->spacy<3.3.0,>=3.2.0->en-core-web-lg==3.2.0) (3.6.0)\n",
      "Requirement already satisfied: pyparsing<3,>=2.0.2 in c:\\users\\jooni\\appdata\\local\\programs\\python\\python36\\lib\\site-packages (from packaging>=20.0->spacy<3.3.0,>=3.2.0->en-core-web-lg==3.2.0) (2.4.7)\n",
      "Requirement already satisfied: dataclasses<1.0,>=0.6 in c:\\users\\jooni\\appdata\\local\\programs\\python\\python36\\lib\\site-packages (from pathy>=0.3.5->spacy<3.3.0,>=3.2.0->en-core-web-lg==3.2.0) (0.8)\n",
      "Requirement already satisfied: smart-open<6.0.0,>=5.0.0 in c:\\users\\jooni\\appdata\\local\\programs\\python\\python36\\lib\\site-packages (from pathy>=0.3.5->spacy<3.3.0,>=3.2.0->en-core-web-lg==3.2.0) (5.2.1)\n",
      "Requirement already satisfied: charset-normalizer~=2.0.0 in c:\\users\\jooni\\appdata\\local\\programs\\python\\python36\\lib\\site-packages (from requests<3.0.0,>=2.13.0->spacy<3.3.0,>=3.2.0->en-core-web-lg==3.2.0) (2.0.7)\n",
      "Requirement already satisfied: urllib3<1.27,>=1.21.1 in c:\\users\\jooni\\appdata\\local\\programs\\python\\python36\\lib\\site-packages (from requests<3.0.0,>=2.13.0->spacy<3.3.0,>=3.2.0->en-core-web-lg==3.2.0) (1.26.7)\n",
      "Requirement already satisfied: idna<4,>=2.5 in c:\\users\\jooni\\appdata\\local\\programs\\python\\python36\\lib\\site-packages (from requests<3.0.0,>=2.13.0->spacy<3.3.0,>=3.2.0->en-core-web-lg==3.2.0) (3.3)\n",
      "Requirement already satisfied: certifi>=2017.4.17 in c:\\users\\jooni\\appdata\\local\\programs\\python\\python36\\lib\\site-packages (from requests<3.0.0,>=2.13.0->spacy<3.3.0,>=3.2.0->en-core-web-lg==3.2.0) (2021.10.8)\n",
      "Requirement already satisfied: contextvars<3,>=2.4 in c:\\users\\jooni\\appdata\\local\\programs\\python\\python36\\lib\\site-packages (from thinc<8.1.0,>=8.0.12->spacy<3.3.0,>=3.2.0->en-core-web-lg==3.2.0) (2.4)\n",
      "Requirement already satisfied: importlib-resources in c:\\users\\jooni\\appdata\\local\\programs\\python\\python36\\lib\\site-packages (from tqdm<5.0.0,>=4.38.0->spacy<3.3.0,>=3.2.0->en-core-web-lg==3.2.0) (5.4.0)\n",
      "Requirement already satisfied: colorama in c:\\users\\jooni\\appdata\\local\\programs\\python\\python36\\lib\\site-packages (from tqdm<5.0.0,>=4.38.0->spacy<3.3.0,>=3.2.0->en-core-web-lg==3.2.0) (0.4.4)\n",
      "Requirement already satisfied: click<9.0.0,>=7.1.1 in c:\\users\\jooni\\appdata\\local\\programs\\python\\python36\\lib\\site-packages (from typer<0.5.0,>=0.3.0->spacy<3.3.0,>=3.2.0->en-core-web-lg==3.2.0) (8.0.4)\n",
      "Requirement already satisfied: MarkupSafe>=2.0 in c:\\users\\jooni\\appdata\\local\\programs\\python\\python36\\lib\\site-packages (from jinja2->spacy<3.3.0,>=3.2.0->en-core-web-lg==3.2.0) (2.0.1)\n",
      "Requirement already satisfied: importlib-metadata in c:\\users\\jooni\\appdata\\local\\programs\\python\\python36\\lib\\site-packages (from click<9.0.0,>=7.1.1->typer<0.5.0,>=0.3.0->spacy<3.3.0,>=3.2.0->en-core-web-lg==3.2.0) (4.8.2)\n",
      "Requirement already satisfied: immutables>=0.9 in c:\\users\\jooni\\appdata\\local\\programs\\python\\python36\\lib\\site-packages (from contextvars<3,>=2.4->thinc<8.1.0,>=8.0.12->spacy<3.3.0,>=3.2.0->en-core-web-lg==3.2.0) (0.16)\n",
      "[+] Download and installation successful\n",
      "You can now load the package via spacy.load('en_core_web_lg')\n"
     ]
    }
   ],
   "source": [
    "!python -m spacy download en_core_web_lg"
   ]
  },
  {
   "cell_type": "code",
   "execution_count": 7,
   "id": "219ebba7",
   "metadata": {},
   "outputs": [],
   "source": [
    "import spacy"
   ]
  },
  {
   "cell_type": "code",
   "execution_count": 9,
   "id": "2683f943",
   "metadata": {},
   "outputs": [],
   "source": [
    "nlp_eng = spacy.load('en_core_web_lg')"
   ]
  },
  {
   "cell_type": "code",
   "execution_count": 13,
   "id": "94653fea",
   "metadata": {},
   "outputs": [],
   "source": [
    "newsapi = \"https://newsapi.org/v2/top-headlines?country=us&category=business&apiKey=21e05e12f7ac4d198fa371e40b6fb186\""
   ]
  },
  {
   "cell_type": "code",
   "execution_count": 17,
   "id": "f40ef74e",
   "metadata": {},
   "outputs": [],
   "source": [
    "from newsapi import NewsApiClient"
   ]
  },
  {
   "cell_type": "code",
   "execution_count": 18,
   "id": "74352efd",
   "metadata": {},
   "outputs": [],
   "source": [
    "newsapi = NewsApiClient(api_key='21e05e12f7ac4d198fa371e40b6fb186')"
   ]
  },
  {
   "cell_type": "markdown",
   "id": "c599909d",
   "metadata": {},
   "source": [
    "### get 100 articles from api "
   ]
  },
  {
   "cell_type": "code",
   "execution_count": 62,
   "id": "0574b876",
   "metadata": {},
   "outputs": [
    {
     "data": {
      "text/plain": [
       "100"
      ]
     },
     "execution_count": 62,
     "metadata": {},
     "output_type": "execute_result"
    }
   ],
   "source": [
    "all_articles ={'articles':[]}\n",
    "for i in range(1,6):\n",
    "    item = newsapi.get_everything(q='coronavirus',\n",
    "                                      from_param='2022-02-25',\n",
    "                                      to='2022-03-24',\n",
    "                                      language='en',\n",
    "                                      sort_by='relevancy',\n",
    "                                      page=i)\n",
    "    all_articles['articles'].extend(item['articles'])\n",
    "    \n",
    "len(all_articles['articles'])"
   ]
  },
  {
   "cell_type": "markdown",
   "id": "ec9ffa36",
   "metadata": {},
   "source": [
    "### create a backup "
   ]
  },
  {
   "cell_type": "code",
   "execution_count": 58,
   "id": "8f123d1d",
   "metadata": {},
   "outputs": [],
   "source": [
    "import pickle"
   ]
  },
  {
   "cell_type": "code",
   "execution_count": 118,
   "id": "6f1c9fa7",
   "metadata": {},
   "outputs": [],
   "source": [
    "with open('covid_articles_original.pkl', 'wb') as f:\n",
    "    pickle.dump(all_articles, f)"
   ]
  },
  {
   "cell_type": "code",
   "execution_count": 120,
   "id": "3195981f",
   "metadata": {},
   "outputs": [
    {
     "name": "stdout",
     "output_type": "stream",
     "text": [
      "{'source': {'id': None, 'name': 'New York Times'}, 'author': 'Joseph Berger', 'title': 'Rabbi Chaim Kanievsky, Venerated Talmudic Scholar, Dies at 94', 'description': 'He initially insisted, “Canceling Torah study is more dangerous than the coronavirus.” But he had a change of heart, even before testing positive.', 'url': 'https://www.nytimes.com/2022/03/18/obituaries/rabbi-chaim-kanievsky-dea.html', 'urlToImage': 'https://static01.nyt.com/images/2022/03/19/obituaries/19Kanievsky-obit1/00Kanievsky1-facebookJumbo.jpg', 'publishedAt': '2022-03-18T20:26:55Z', 'content': 'Most significant was his ruling that instances of sexual abuse of children should be reported to the civic authorities and not handled exclusively within the Haredi community. This was a sharp depart… [+1849 chars]'}\n"
     ]
    }
   ],
   "source": [
    "print(all_articles['articles'][0])"
   ]
  },
  {
   "cell_type": "markdown",
   "id": "70d1475f",
   "metadata": {},
   "source": [
    "### create a Pandas DataFrame"
   ]
  },
  {
   "cell_type": "code",
   "execution_count": 70,
   "id": "c3d648b1",
   "metadata": {},
   "outputs": [
    {
     "data": {
      "text/html": [
       "<div>\n",
       "<style scoped>\n",
       "    .dataframe tbody tr th:only-of-type {\n",
       "        vertical-align: middle;\n",
       "    }\n",
       "\n",
       "    .dataframe tbody tr th {\n",
       "        vertical-align: top;\n",
       "    }\n",
       "\n",
       "    .dataframe thead th {\n",
       "        text-align: right;\n",
       "    }\n",
       "</style>\n",
       "<table border=\"1\" class=\"dataframe\">\n",
       "  <thead>\n",
       "    <tr style=\"text-align: right;\">\n",
       "      <th></th>\n",
       "      <th>title</th>\n",
       "      <th>date</th>\n",
       "      <th>desc</th>\n",
       "      <th>content</th>\n",
       "    </tr>\n",
       "  </thead>\n",
       "  <tbody>\n",
       "    <tr>\n",
       "      <th>0</th>\n",
       "      <td>Rabbi Chaim Kanievsky, Venerated Talmudic Scho...</td>\n",
       "      <td>2022-03-18T20:26:55Z</td>\n",
       "      <td>He initially insisted, “Canceling Torah study ...</td>\n",
       "      <td>Most significant was his ruling that instances...</td>\n",
       "    </tr>\n",
       "    <tr>\n",
       "      <th>1</th>\n",
       "      <td>Can Eric Adams Cheerlead New Yorkers Past the ...</td>\n",
       "      <td>2022-03-20T16:11:17Z</td>\n",
       "      <td>The mayor is singularly focused on bringing ba...</td>\n",
       "      <td>Mr. Adams, a Democrat, has had regular convers...</td>\n",
       "    </tr>\n",
       "    <tr>\n",
       "      <th>2</th>\n",
       "      <td>Preschoolers Can Shed Their Masks, Mayor Adams...</td>\n",
       "      <td>2022-03-22T18:11:14Z</td>\n",
       "      <td>New York City plans to end the mask requiremen...</td>\n",
       "      <td>Earlier this month, when Mr. Adams eliminated ...</td>\n",
       "    </tr>\n",
       "    <tr>\n",
       "      <th>3</th>\n",
       "      <td>Moderna Asks F.D.A. to Authorize a Second Boos...</td>\n",
       "      <td>2022-03-18T09:08:37Z</td>\n",
       "      <td>The request is significantly broader than the ...</td>\n",
       "      <td>A man receiving a second booster of a coronavi...</td>\n",
       "    </tr>\n",
       "    <tr>\n",
       "      <th>4</th>\n",
       "      <td>China Reports Its First Covid Deaths in Over a...</td>\n",
       "      <td>2022-03-19T13:37:04Z</td>\n",
       "      <td>The two fatalities are the first coronavirus d...</td>\n",
       "      <td>Scarcely two months after the Omicron variant ...</td>\n",
       "    </tr>\n",
       "  </tbody>\n",
       "</table>\n",
       "</div>"
      ],
      "text/plain": [
       "                                               title                  date  \\\n",
       "0  Rabbi Chaim Kanievsky, Venerated Talmudic Scho...  2022-03-18T20:26:55Z   \n",
       "1  Can Eric Adams Cheerlead New Yorkers Past the ...  2022-03-20T16:11:17Z   \n",
       "2  Preschoolers Can Shed Their Masks, Mayor Adams...  2022-03-22T18:11:14Z   \n",
       "3  Moderna Asks F.D.A. to Authorize a Second Boos...  2022-03-18T09:08:37Z   \n",
       "4  China Reports Its First Covid Deaths in Over a...  2022-03-19T13:37:04Z   \n",
       "\n",
       "                                                desc  \\\n",
       "0  He initially insisted, “Canceling Torah study ...   \n",
       "1  The mayor is singularly focused on bringing ba...   \n",
       "2  New York City plans to end the mask requiremen...   \n",
       "3  The request is significantly broader than the ...   \n",
       "4  The two fatalities are the first coronavirus d...   \n",
       "\n",
       "                                             content  \n",
       "0  Most significant was his ruling that instances...  \n",
       "1  Mr. Adams, a Democrat, has had regular convers...  \n",
       "2  Earlier this month, when Mr. Adams eliminated ...  \n",
       "3  A man receiving a second booster of a coronavi...  \n",
       "4  Scarcely two months after the Omicron variant ...  "
      ]
     },
     "execution_count": 70,
     "metadata": {},
     "output_type": "execute_result"
    }
   ],
   "source": [
    "import pandas as pd\n",
    "\n",
    "\n",
    "titles =[]\n",
    "descriptions =[]\n",
    "contents =[]\n",
    "dates =[]\n",
    "\n",
    "for i, article in enumerate(all_articles['articles']):\n",
    "    titles.append(article['title'])\n",
    "    descriptions.append(article['description'])\n",
    "    contents.append(article['content'])\n",
    "    dates.append(article['publishedAt'])\n",
    "    \n",
    "\n",
    "df = pd.DataFrame({'title':titles, 'date':dates, 'desc':descriptions, 'content':contents})\n",
    "df = df.dropna()\n",
    "df.head()\n"
   ]
  },
  {
   "cell_type": "markdown",
   "id": "6fc15b62",
   "metadata": {},
   "source": [
    "### Tokenize Content"
   ]
  },
  {
   "cell_type": "code",
   "execution_count": 101,
   "id": "d873765c",
   "metadata": {},
   "outputs": [],
   "source": [
    "def get_keywords_eng(content):\n",
    "    punctuation = [',',':',';','.','\\'','@','?','!','\\\"']\n",
    "    pos_tag=[\"VERB\",\"NOUN\",\"PROPN\"]\n",
    "#     prep_tag = [\"about\",\"above\",\"across\",\"after\",\"against\",\"among\",\"around\",\"at\",\"before\",\"behind\",\"below\",\"beside\",\"between\",\"by\",\"down\",\"during\",\"for\",\"from\",\"in\",\"inside\",\"into\",\"near\",\"of\",\"off\",\"on\",\"out\",\"over\",\"through\",\"to\",\"toward\",\"under\",\"up\",\"with\"]\n",
    "    \n",
    "    result = []\n",
    "    for token in nlp_eng(content):\n",
    "        if (token.text in nlp_eng.Defaults.stop_words or token.text in punctuation):\n",
    "            continue\n",
    "        if (token.pos_ in pos_tag):\n",
    "            result.append(token.text)\n",
    "    \n",
    "    return result\n",
    "   "
   ]
  },
  {
   "cell_type": "markdown",
   "id": "b7a438e7",
   "metadata": {},
   "source": [
    "### Add keywords to the DataFrame"
   ]
  },
  {
   "cell_type": "code",
   "execution_count": 124,
   "id": "dfe34360",
   "metadata": {},
   "outputs": [],
   "source": [
    "from collections import Counter\n",
    "result = []\n",
    "for content in df.content.values:\n",
    "    result.append([('#' + x[0]) for x in Counter(get_keywords_eng(content)).most_common(5)])\n",
    "\n",
    "df['keywords'] = result"
   ]
  },
  {
   "cell_type": "code",
   "execution_count": 125,
   "id": "154086f2",
   "metadata": {},
   "outputs": [
    {
     "name": "stdout",
     "output_type": "stream",
     "text": [
      "100\n"
     ]
    }
   ],
   "source": [
    "print(len(df['content']))"
   ]
  },
  {
   "cell_type": "code",
   "execution_count": 126,
   "id": "aaba6ab8",
   "metadata": {},
   "outputs": [
    {
     "data": {
      "text/html": [
       "<div>\n",
       "<style scoped>\n",
       "    .dataframe tbody tr th:only-of-type {\n",
       "        vertical-align: middle;\n",
       "    }\n",
       "\n",
       "    .dataframe tbody tr th {\n",
       "        vertical-align: top;\n",
       "    }\n",
       "\n",
       "    .dataframe thead th {\n",
       "        text-align: right;\n",
       "    }\n",
       "</style>\n",
       "<table border=\"1\" class=\"dataframe\">\n",
       "  <thead>\n",
       "    <tr style=\"text-align: right;\">\n",
       "      <th></th>\n",
       "      <th>title</th>\n",
       "      <th>date</th>\n",
       "      <th>desc</th>\n",
       "      <th>content</th>\n",
       "      <th>keywords</th>\n",
       "    </tr>\n",
       "  </thead>\n",
       "  <tbody>\n",
       "    <tr>\n",
       "      <th>0</th>\n",
       "      <td>Rabbi Chaim Kanievsky, Venerated Talmudic Scho...</td>\n",
       "      <td>2022-03-18T20:26:55Z</td>\n",
       "      <td>He initially insisted, “Canceling Torah study ...</td>\n",
       "      <td>Most significant was his ruling that instances...</td>\n",
       "      <td>[#ruling, #instances, #abuse, #children, #repo...</td>\n",
       "    </tr>\n",
       "    <tr>\n",
       "      <th>1</th>\n",
       "      <td>Can Eric Adams Cheerlead New Yorkers Past the ...</td>\n",
       "      <td>2022-03-20T16:11:17Z</td>\n",
       "      <td>The mayor is singularly focused on bringing ba...</td>\n",
       "      <td>Mr. Adams, a Democrat, has had regular convers...</td>\n",
       "      <td>[#Mr., #Adams, #Democrat, #conversations, #citys]</td>\n",
       "    </tr>\n",
       "    <tr>\n",
       "      <th>2</th>\n",
       "      <td>Preschoolers Can Shed Their Masks, Mayor Adams...</td>\n",
       "      <td>2022-03-22T18:11:14Z</td>\n",
       "      <td>New York City plans to end the mask requiremen...</td>\n",
       "      <td>Earlier this month, when Mr. Adams eliminated ...</td>\n",
       "      <td>[#said, #month, #Mr., #Adams, #eliminated]</td>\n",
       "    </tr>\n",
       "    <tr>\n",
       "      <th>3</th>\n",
       "      <td>Moderna Asks F.D.A. to Authorize a Second Boos...</td>\n",
       "      <td>2022-03-18T09:08:37Z</td>\n",
       "      <td>The request is significantly broader than the ...</td>\n",
       "      <td>A man receiving a second booster of a coronavi...</td>\n",
       "      <td>[#Moderna, #man, #receiving, #booster, #corona...</td>\n",
       "    </tr>\n",
       "    <tr>\n",
       "      <th>4</th>\n",
       "      <td>China Reports Its First Covid Deaths in Over a...</td>\n",
       "      <td>2022-03-19T13:37:04Z</td>\n",
       "      <td>The two fatalities are the first coronavirus d...</td>\n",
       "      <td>Scarcely two months after the Omicron variant ...</td>\n",
       "      <td>[#months, #Omicron, #variant, #drove, #coronav...</td>\n",
       "    </tr>\n",
       "  </tbody>\n",
       "</table>\n",
       "</div>"
      ],
      "text/plain": [
       "                                               title                  date  \\\n",
       "0  Rabbi Chaim Kanievsky, Venerated Talmudic Scho...  2022-03-18T20:26:55Z   \n",
       "1  Can Eric Adams Cheerlead New Yorkers Past the ...  2022-03-20T16:11:17Z   \n",
       "2  Preschoolers Can Shed Their Masks, Mayor Adams...  2022-03-22T18:11:14Z   \n",
       "3  Moderna Asks F.D.A. to Authorize a Second Boos...  2022-03-18T09:08:37Z   \n",
       "4  China Reports Its First Covid Deaths in Over a...  2022-03-19T13:37:04Z   \n",
       "\n",
       "                                                desc  \\\n",
       "0  He initially insisted, “Canceling Torah study ...   \n",
       "1  The mayor is singularly focused on bringing ba...   \n",
       "2  New York City plans to end the mask requiremen...   \n",
       "3  The request is significantly broader than the ...   \n",
       "4  The two fatalities are the first coronavirus d...   \n",
       "\n",
       "                                             content  \\\n",
       "0  Most significant was his ruling that instances...   \n",
       "1  Mr. Adams, a Democrat, has had regular convers...   \n",
       "2  Earlier this month, when Mr. Adams eliminated ...   \n",
       "3  A man receiving a second booster of a coronavi...   \n",
       "4  Scarcely two months after the Omicron variant ...   \n",
       "\n",
       "                                            keywords  \n",
       "0  [#ruling, #instances, #abuse, #children, #repo...  \n",
       "1  [#Mr., #Adams, #Democrat, #conversations, #citys]  \n",
       "2         [#said, #month, #Mr., #Adams, #eliminated]  \n",
       "3  [#Moderna, #man, #receiving, #booster, #corona...  \n",
       "4  [#months, #Omicron, #variant, #drove, #coronav...  "
      ]
     },
     "execution_count": 126,
     "metadata": {},
     "output_type": "execute_result"
    }
   ],
   "source": [
    "df.head(5)"
   ]
  },
  {
   "cell_type": "markdown",
   "id": "5dd2caad",
   "metadata": {},
   "source": [
    "### Back up data again"
   ]
  },
  {
   "cell_type": "code",
   "execution_count": 119,
   "id": "5cea51b1",
   "metadata": {},
   "outputs": [],
   "source": [
    "df.to_pickle(\"covid_articles_keyword.pkl\")"
   ]
  },
  {
   "cell_type": "code",
   "execution_count": 122,
   "id": "67133ae9",
   "metadata": {},
   "outputs": [
    {
     "name": "stdout",
     "output_type": "stream",
     "text": [
      "Collecting wordcloud\n",
      "  Downloading wordcloud-1.8.1-cp36-cp36m-win_amd64.whl (154 kB)\n",
      "Requirement already satisfied: matplotlib in c:\\users\\jooni\\appdata\\local\\programs\\python\\python36\\lib\\site-packages (from wordcloud) (3.3.4)\n",
      "Requirement already satisfied: numpy>=1.6.1 in c:\\users\\jooni\\appdata\\local\\programs\\python\\python36\\lib\\site-packages (from wordcloud) (1.19.5)\n",
      "Requirement already satisfied: pillow in c:\\users\\jooni\\appdata\\local\\programs\\python\\python36\\lib\\site-packages (from wordcloud) (8.4.0)\n",
      "Requirement already satisfied: python-dateutil>=2.1 in c:\\users\\jooni\\appdata\\local\\programs\\python\\python36\\lib\\site-packages (from matplotlib->wordcloud) (2.8.2)\n",
      "Requirement already satisfied: pyparsing!=2.0.4,!=2.1.2,!=2.1.6,>=2.0.3 in c:\\users\\jooni\\appdata\\local\\programs\\python\\python36\\lib\\site-packages (from matplotlib->wordcloud) (2.4.7)\n",
      "Requirement already satisfied: kiwisolver>=1.0.1 in c:\\users\\jooni\\appdata\\local\\programs\\python\\python36\\lib\\site-packages (from matplotlib->wordcloud) (1.3.1)\n",
      "Requirement already satisfied: cycler>=0.10 in c:\\users\\jooni\\appdata\\local\\programs\\python\\python36\\lib\\site-packages (from matplotlib->wordcloud) (0.11.0)\n",
      "Requirement already satisfied: six>=1.5 in c:\\users\\jooni\\appdata\\local\\programs\\python\\python36\\lib\\site-packages (from python-dateutil>=2.1->matplotlib->wordcloud) (1.15.0)\n",
      "Installing collected packages: wordcloud\n",
      "Successfully installed wordcloud-1.8.1\n",
      "Note: you may need to restart the kernel to use updated packages.\n"
     ]
    }
   ],
   "source": [
    "pip install wordcloud"
   ]
  },
  {
   "cell_type": "markdown",
   "id": "244e2105",
   "metadata": {},
   "source": [
    "### Create Word Cloud"
   ]
  },
  {
   "cell_type": "code",
   "execution_count": 139,
   "id": "99e7ddc0",
   "metadata": {},
   "outputs": [
    {
     "data": {
      "image/png": "[encoded data removed]",
      "text/plain": [
       "<Figure size 432x288 with 1 Axes>"
      ]
     },
     "metadata": {
      "needs_background": "light"
     },
     "output_type": "display_data"
    }
   ],
   "source": [
    "from wordcloud import WordCloud, STOPWORDS, ImageColorGenerator\n",
    "import matplotlib.pyplot as plt\n",
    "text = str(result)\n",
    "wordcloud = WordCloud(width=600,height=400, max_font_size=100, max_words=100, background_color=\"black\").generate(text)\n",
    "plt.figure()\n",
    "plt.imshow(wordcloud, interpolation=\"bilinear\")\n",
    "plt.axis(\"off\")\n",
    "plt.show()"
   ]
  },
  {
   "cell_type": "code",
   "execution_count": 140,
   "id": "7c715eea",
   "metadata": {},
   "outputs": [
    {
     "data": {
      "text/plain": [
       "<wordcloud.wordcloud.WordCloud at 0x26a43f56e80>"
      ]
     },
     "execution_count": 140,
     "metadata": {},
     "output_type": "execute_result"
    }
   ],
   "source": [
    "# Save the image in the img folder:\n",
    "wordcloud.to_file(\"wordCloud_Covid_black.png\")"
   ]
  },
  {
   "cell_type": "code",
   "execution_count": 96,
   "id": "1c4a7421",
   "metadata": {},
   "outputs": [],
   "source": [
    "def get_keywords_eng():\n",
    "    punctuation = [',',':',';','.','\\'','@','?','!','\\\"']\n",
    "    pos_tag=[\"VERB\",\"NOUN\",\"PROPN\"]\n",
    "#     prep_tag = [\"about\",\"above\",\"across\",\"after\",\"against\",\"among\",\"around\",\"at\",\"before\",\"behind\",\"below\",\"beside\",\"between\",\"by\",\"down\",\"during\",\"for\",\"from\",\"in\",\"inside\",\"into\",\"near\",\"of\",\"off\",\"on\",\"out\",\"over\",\"through\",\"to\",\"toward\",\"under\",\"up\",\"with\"]\n",
    "    \n",
    "    result = []\n",
    "    for title in df['title']:\n",
    "        for token in nlp_eng(title):\n",
    "#             print(token)\n",
    "            if (token.text in nlp_eng.Defaults.stop_words or token.text in punctuation):\n",
    "                continue\n",
    "            if (token.pos_ in pos_tag):\n",
    "                result.append(token.text)\n",
    "    \n",
    "    for desc in df['desc']:\n",
    "        for token in nlp_eng(desc):\n",
    "#             print(token)\n",
    "            if (token.text in nlp_eng.Defaults.stop_words or token.text in punctuation):\n",
    "                continue\n",
    "            if (token.pos_ in pos_tag):\n",
    "                result.append(token.text)\n",
    "                \n",
    "    for content in df['content']:\n",
    "        for token in nlp_eng(content):\n",
    "#             print(token)\n",
    "            if (token.text in nlp_eng.Defaults.stop_words or token.text in punctuation):\n",
    "                continue\n",
    "            if (token.pos_ in pos_tag):\n",
    "                result.append(token.text)\n",
    "    \n",
    "    return result\n",
    "   "
   ]
  }
 ],
 "metadata": {
  "kernelspec": {
   "display_name": "Python 3",
   "language": "python",
   "name": "python3"
  },
  "language_info": {
   "codemirror_mode": {
    "name": "ipython",
    "version": 3
   },
   "file_extension": ".py",
   "mimetype": "text/x-python",
   "name": "python",
   "nbconvert_exporter": "python",
   "pygments_lexer": "ipython3",
   "version": "3.6.6"
  }
 },
 "nbformat": 4,
 "nbformat_minor": 5
}
